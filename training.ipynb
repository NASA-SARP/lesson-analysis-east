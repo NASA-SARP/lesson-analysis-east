{
 "cells": [
  {
   "cell_type": "markdown",
   "id": "34f8072d-0493-4d8d-b68a-0887882a045c",
   "metadata": {
    "slideshow": {
     "slide_type": "skip"
    },
    "tags": [],
    "user_expressions": []
   },
   "source": [
    "---\n",
    "title: Analysis\n",
    "subtitle: The Model Development Process in scikit-learn\n",
    "authors:\n",
    "  - name: Ian Carroll\n",
    "    affiliations:\n",
    "      - University of Maryland Baltimore County\n",
    "      - NASA Goddard Space Flight Center\n",
    "  - name: Rachel Wegener\n",
    "    affiliations:\n",
    "      - University of Maryland College Park\n",
    "github: nasa-sarp/lesson-analysis-i-east\n",
    "---"
   ]
  },
  {
   "cell_type": "markdown",
   "id": "d1262a51-9e40-43ee-a80a-5369ed62b410",
   "metadata": {
    "slideshow": {
     "slide_type": "skip"
    },
    "tags": [],
    "user_expressions": []
   },
   "source": [
    "::::{grid}\n",
    "\n",
    ":::{card}\n",
    ":header: Context 🤔\n",
    "You've created or have access to great data! Now what? This lesson starts moving from exploration to analysis.\n",
    ":::\n",
    "\n",
    ":::{card}\n",
    ":header: Outcome 🎓\n",
    "Building a model to make a prediction will become a concrete, well-defined process.\n",
    ":::\n",
    "\n",
    ":::{card}\n",
    ":header: Skills 🤓\n",
    "A new tool for understanding why your code produces an error, the `%debug` command!\n",
    ":::\n",
    "\n",
    "::::"
   ]
  },
  {
   "cell_type": "code",
   "execution_count": null,
   "id": "9251329b-518f-4da2-a211-ead39176670f",
   "metadata": {
    "jupyter": {
     "source_hidden": true
    },
    "slideshow": {
     "slide_type": "skip"
    },
    "tags": []
   },
   "outputs": [],
   "source": [
    "import holoviews\n",
    "import hvplot.xarray\n",
    "import numpy\n",
    "import sklearn.datasets\n",
    "import sklearn.linear_model\n",
    "import sklearn.model_selection\n",
    "import xarray\n",
    "\n",
    "options = xarray.set_options(display_style='text')\n",
    "holoviews.opts.defaults(\n",
    "    holoviews.opts.Curve(active_tools=[], toolbar=None),\n",
    "    holoviews.opts.Histogram(active_tools=[], toolbar=None),\n",
    "    holoviews.opts.Scatter(active_tools=[], toolbar=None),\n",
    "    holoviews.opts.Image(active_tools=[]),\n",
    "    holoviews.opts.Points(active_tools=[]),\n",
    "    holoviews.opts.Layout(toolbar=None),\n",
    "    holoviews.opts.ErrorBars(upper_head=None, lower_head=None)\n",
    ")"
   ]
  },
  {
   "cell_type": "code",
   "execution_count": null,
   "id": "71c7b26d-c761-4ecd-b443-64f832831677",
   "metadata": {
    "jupyter": {
     "source_hidden": true
    },
    "slideshow": {
     "slide_type": "skip"
    },
    "tags": []
   },
   "outputs": [],
   "source": [
    "import scipy.integrate\n",
    "\n",
    "sol = scipy.integrate.solve_ivp(lambda t, y: (y[1], -9.8), (0, 3), [100, 0], t_eval=numpy.linspace(0, 3, 80))\n",
    "array = xarray.DataArray(sol.y[0], coords={'time': sol.t}, name='height')\n",
    "plta = array.hvplot(aspect=1).opts(frame_height=100, aspect=1)\n",
    "array = xarray.DataArray(\n",
    "    data=[0.3, 0.45, 0.42, 0.51, 0.48, 0.52, 0.63, 0.65],\n",
    "    coords={'X': [0.1, 0.2, 0.3, 0.4, 0.5, 0.6, 0.7, 0.8]},\n",
    "    name='y'\n",
    ")\n",
    "pltb = array.hvplot.scatter(x='X', y='y', aspect=1, frame_height=100) * holoviews.Slope(0.45, .3).opts(color='orange')"
   ]
  },
  {
   "cell_type": "code",
   "execution_count": null,
   "id": "925aac40-9ec5-48df-ab09-159fce5732e1",
   "metadata": {
    "slideshow": {
     "slide_type": "slide"
    },
    "tags": []
   },
   "outputs": [],
   "source": [
    "holoviews.extension('bokeh')"
   ]
  },
  {
   "cell_type": "markdown",
   "id": "dc605bd5-f660-46a8-b284-593d1f4d3d50",
   "metadata": {
    "slideshow": {
     "slide_type": "skip"
    },
    "tags": [],
    "user_expressions": []
   },
   "source": [
    "## Models: Conceptual, Mathematical, and Numerical"
   ]
  },
  {
   "cell_type": "markdown",
   "id": "764f7fab-5513-4bae-8b17-eeac887246e9",
   "metadata": {
    "slideshow": {
     "slide_type": "skip"
    },
    "tags": [],
    "user_expressions": []
   },
   "source": [
    "Data analysis is inevitably connected to *some* kind of model, some abstraction that describes how a system behaves. A conceptual model might do that in words or diagrams. A mathematical model uses various sorts of equations. A numerical model ultimately represents the way a system behaves with data. Data analysis is the process of comparing a numerical model to observations: to seeing how well your observations \"fit the model\"."
   ]
  },
  {
   "cell_type": "markdown",
   "id": "9b1c703f-3d50-4564-a9f9-8da531744576",
   "metadata": {
    "slideshow": {
     "slide_type": "skip"
    },
    "tags": [],
    "user_expressions": []
   },
   "source": [
    "In some cases, the model is very well defined before you even collect data. Most often a \"process model\" makes clear numerical predictions before you take your observations into account."
   ]
  },
  {
   "cell_type": "markdown",
   "id": "33ce20eb-1569-4a42-a90f-7173c55c3e89",
   "metadata": {
    "slideshow": {
     "slide_type": "skip"
    },
    "tags": [],
    "user_expressions": [
     {
      "expression": "plta",
      "result": {
       "data": {
        "application/vnd.holoviews_exec.v0+json": "",
        "text/html": "<div id='3054'>\n  <div class=\"bk-root\" id=\"cbbe6c24-92f3-4ce8-838c-e160e5ac7109\" data-root-id=\"3054\"></div>\n</div>\n<script type=\"application/javascript\">(function(root) {\n  function embed_document(root) {\n    var docs_json = {\"a606525b-a35b-4330-9f0f-d49459d4dde6\":{\"defs\":[{\"extends\":null,\"module\":null,\"name\":\"ReactiveHTML1\",\"overrides\":[],\"properties\":[]},{\"extends\":null,\"module\":null,\"name\":\"FlexBox1\",\"overrides\":[],\"properties\":[{\"default\":\"flex-start\",\"kind\":null,\"name\":\"align_content\"},{\"default\":\"flex-start\",\"kind\":null,\"name\":\"align_items\"},{\"default\":\"row\",\"kind\":null,\"name\":\"flex_direction\"},{\"default\":\"wrap\",\"kind\":null,\"name\":\"flex_wrap\"},{\"default\":\"flex-start\",\"kind\":null,\"name\":\"justify_content\"}]},{\"extends\":null,\"module\":null,\"name\":\"GridStack1\",\"overrides\":[],\"properties\":[{\"default\":\"warn\",\"kind\":null,\"name\":\"mode\"},{\"default\":null,\"kind\":null,\"name\":\"ncols\"},{\"default\":null,\"kind\":null,\"name\":\"nrows\"},{\"default\":true,\"kind\":null,\"name\":\"allow_resize\"},{\"default\":true,\"kind\":null,\"name\":\"allow_drag\"},{\"default\":[],\"kind\":null,\"name\":\"state\"}]},{\"extends\":null,\"module\":null,\"name\":\"click1\",\"overrides\":[],\"properties\":[{\"default\":\"\",\"kind\":null,\"name\":\"terminal_output\"},{\"default\":\"\",\"kind\":null,\"name\":\"debug_name\"},{\"default\":0,\"kind\":null,\"name\":\"clears\"}]},{\"extends\":null,\"module\":null,\"name\":\"NotificationAreaBase1\",\"overrides\":[],\"properties\":[{\"default\":\"bottom-right\",\"kind\":null,\"name\":\"position\"},{\"default\":0,\"kind\":null,\"name\":\"_clear\"}]},{\"extends\":null,\"module\":null,\"name\":\"NotificationArea1\",\"overrides\":[],\"properties\":[{\"default\":[],\"kind\":null,\"name\":\"notifications\"},{\"default\":\"bottom-right\",\"kind\":null,\"name\":\"position\"},{\"default\":0,\"kind\":null,\"name\":\"_clear\"},{\"default\":[{\"background\":\"#ffc107\",\"icon\":{\"className\":\"fas fa-exclamation-triangle\",\"color\":\"white\",\"tagName\":\"i\"},\"type\":\"warning\"},{\"background\":\"#007bff\",\"icon\":{\"className\":\"fas fa-info-circle\",\"color\":\"white\",\"tagName\":\"i\"},\"type\":\"info\"}],\"kind\":null,\"name\":\"types\"}]},{\"extends\":null,\"module\":null,\"name\":\"Notification\",\"overrides\":[],\"properties\":[{\"default\":null,\"kind\":null,\"name\":\"background\"},{\"default\":3000,\"kind\":null,\"name\":\"duration\"},{\"default\":null,\"kind\":null,\"name\":\"icon\"},{\"default\":\"\",\"kind\":null,\"name\":\"message\"},{\"default\":null,\"kind\":null,\"name\":\"notification_type\"},{\"default\":false,\"kind\":null,\"name\":\"_destroyed\"}]},{\"extends\":null,\"module\":null,\"name\":\"TemplateActions1\",\"overrides\":[],\"properties\":[{\"default\":0,\"kind\":null,\"name\":\"open_modal\"},{\"default\":0,\"kind\":null,\"name\":\"close_modal\"}]},{\"extends\":null,\"module\":null,\"name\":\"MaterialTemplateActions1\",\"overrides\":[],\"properties\":[{\"default\":0,\"kind\":null,\"name\":\"open_modal\"},{\"default\":0,\"kind\":null,\"name\":\"close_modal\"}]}],\"roots\":{\"references\":[{\"attributes\":{},\"id\":\"3077\",\"type\":\"WheelZoomTool\"},{\"attributes\":{},\"id\":\"3075\",\"type\":\"SaveTool\"},{\"attributes\":{\"overlay\":{\"id\":\"3080\"}},\"id\":\"3078\",\"type\":\"BoxZoomTool\"},{\"attributes\":{},\"id\":\"3079\",\"type\":\"ResetTool\"},{\"attributes\":{\"end\":3.0,\"reset_end\":3.0,\"reset_start\":0.0,\"tags\":[[[\"time\",\"time\",null]]]},\"id\":\"3055\",\"type\":\"Range1d\"},{\"attributes\":{\"bottom_units\":\"screen\",\"coordinates\":null,\"fill_alpha\":0.5,\"fill_color\":\"lightgrey\",\"group\":null,\"left_units\":\"screen\",\"level\":\"overlay\",\"line_alpha\":1.0,\"line_color\":\"black\",\"line_dash\":[4,4],\"line_width\":2,\"right_units\":\"screen\",\"syncable\":false,\"top_units\":\"screen\"},\"id\":\"3080\",\"type\":\"BoxAnnotation\"},{\"attributes\":{\"data\":{\"height\":{\"__ndarray__\":\"AAAAAAAAWUCEDVA6jP9YQBQ2QOkw/lhArXnQDO77WEBR2AClw/hYQP5R0bGx9FhAtuZBM7jvWEB5llIp1+lYQEVhA5QO41hAG0dUc17bWED8R0XHxtJYQOdj1o9HyVhA3JoHzeC+WEDb7Nh+krNYQOVZSqVcp1hA+eFbQD+aWEAWhQ1QOoxYQD5DX9RNfVhAcRxRzXltWECtEOM6vlxYQPMfFR0bS1hARErnc5A4WECfj1k/HiVYQATwa3/EEFhAdGseNIP7V0DtAXFdWuVXQHGzY/tJzldA/n/2DVK2V0CWZymVcp1XQDlq/JCrg1dA5YdvAf1oV0CbwILmZk1XQFwUNkDpMFdAJ4OJDoQTV0D8DH1RN/VWQNuxEAkD1lZAxXFENee1VkC4TBjW45RWQLZCjOv4clZAvlOgdSZQVkDQf1R0bCxWQOzGqOfKB1ZAEymdz0HiVUBEpjEs0btVQH4+Zv14lFVAxPE6QzlsVUATwK/9EUNVQGypxCwDGVVA0K150AzuVEA9zc7oLsJUQLUHxHVplVRAOF1Zd7xnVEDEzY7tJzlUQFpZZNirCVRA+//ZN0jZU0Cmwe8L/adTQFuepVTKdVNAG5b7EbBCU0DkqPFDrg5TQLjWh+rE2VJAlh++BfSjUkB+g5SVO21SQHACC5qbNVJAbJwhExT9UUBzUdgApcNRQIQhL2NOiVFAnwwmOhBOUUDEEr2F6hFRQPQz9EXd1FBALXDLeuiWUEBxx0IkDFhQQL45WkJIGFBALo4jqjmvT0Dy3tK4EyxPQMxlwrAep05AuCLykVogTkC5FWJcx5dNQNA+EhBlDU1A+p0CrTOBTEA5MzMzM/NLQA==\",\"dtype\":\"float64\",\"order\":\"little\",\"shape\":[80]},\"time\":{\"__ndarray__\":\"AAAAAAAAAADjJszvanGjP+MmzO9qcbM/VDqyZyAqvT/jJszvanHDP5wwv6vFTcg/VDqyZyAqzT8HotKRPQPRP+MmzO9qcdM/v6vFTZjf1T+cML+rxU3YP3i1uAnzu9o/VDqyZyAq3T8xv6vFTZjfPwei0pE9A+E/dWTPQFQ64j/jJszvanHjP1HpyJ6BqOQ/v6vFTZjf5T8ubsL8rhbnP5wwv6vFTeg/CvO7WtyE6T94tbgJ87vqP+Z3tbgJ8+s/VDqyZyAq7T/D/K4WN2HuPzG/q8VNmO8/0EBUOrJn8D8HotKRPQPxPz4DUenInvE/dWTPQFQ68j+sxU2Y39XyP+MmzO9qcfM/GohKR/YM9D9R6ciegaj0P4hKR/YMRPU/v6vFTZjf9T/2DESlI3v2Py5uwvyuFvc/Zc9AVDqy9z+cML+rxU34P9ORPQNR6fg/CvO7WtyE+T9BVDqyZyD6P3i1uAnzu/o/rxY3YX5X+z/md7W4CfP7Px3ZMxCVjvw/VDqyZyAq/T+MmzC/q8X9P8P8rhY3Yf4/+l0tbsL8/j8xv6vFTZj/PzQQlY7sGQBA0EBUOrJnAEBrcRPmd7UAQAei0pE9AwFAotKRPQNRAUA+A1HpyJ4BQNkzEJWO7AFAdWTPQFQ6AkAQlY7sGYgCQKzFTZjf1QJAR/YMRKUjA0DjJszvanEDQH9Xi5swvwNAGohKR/YMBEC2uAnzu1oEQFHpyJ6BqARA7RmISkf2BECISkf2DEQFQCR7BqLSkQVAv6vFTZjfBUBb3IT5XS0GQPYMRKUjewZAkj0DUenIBkAubsL8rhYHQMmegah0ZAdAZc9AVDqyB0AAAAAAAAAIQA==\",\"dtype\":\"float64\",\"order\":\"little\",\"shape\":[80]}},\"selected\":{\"id\":\"3089\"},\"selection_policy\":{\"id\":\"3110\"}},\"id\":\"3088\",\"type\":\"ColumnDataSource\"},{\"attributes\":{\"line_alpha\":0.2,\"line_color\":\"#30a2da\",\"line_width\":2,\"tags\":[\"apply_ranges\"],\"x\":{\"field\":\"time\"},\"y\":{\"field\":\"height\"}},\"id\":\"3093\",\"type\":\"Line\"},{\"attributes\":{\"line_alpha\":0.1,\"line_color\":\"#30a2da\",\"line_width\":2,\"tags\":[\"apply_ranges\"],\"x\":{\"field\":\"time\"},\"y\":{\"field\":\"height\"}},\"id\":\"3092\",\"type\":\"Line\"},{\"attributes\":{\"children\":[{\"id\":\"3058\"}],\"margin\":[0,0,0,0],\"name\":\"Row03603\",\"sizing_mode\":\"fixed\",\"tags\":[\"embedded\"]},\"id\":\"3054\",\"type\":\"Row\"},{\"attributes\":{\"tools\":[{\"id\":\"3057\"},{\"id\":\"3075\"},{\"id\":\"3076\"},{\"id\":\"3077\"},{\"id\":\"3078\"},{\"id\":\"3079\"}]},\"id\":\"3081\",\"type\":\"Toolbar\"},{\"attributes\":{\"below\":[{\"id\":\"3067\"}],\"center\":[{\"id\":\"3070\"},{\"id\":\"3074\"}],\"frame_height\":100,\"frame_width\":100,\"height\":null,\"left\":[{\"id\":\"3071\"}],\"margin\":[5,5,5,5],\"min_border_bottom\":10,\"min_border_left\":10,\"min_border_right\":10,\"min_border_top\":10,\"output_backend\":\"webgl\",\"renderers\":[{\"id\":\"3094\"}],\"sizing_mode\":\"fixed\",\"title\":{\"id\":\"3059\"},\"toolbar\":{\"id\":\"3081\"},\"toolbar_location\":null,\"width\":null,\"x_range\":{\"id\":\"3055\"},\"x_scale\":{\"id\":\"3063\"},\"y_range\":{\"id\":\"3056\"},\"y_scale\":{\"id\":\"3065\"}},\"id\":\"3058\",\"subtype\":\"Figure\",\"type\":\"Plot\"},{\"attributes\":{},\"id\":\"3089\",\"type\":\"Selection\"},{\"attributes\":{\"line_color\":\"#30a2da\",\"line_width\":2,\"tags\":[\"apply_ranges\"],\"x\":{\"field\":\"time\"},\"y\":{\"field\":\"height\"}},\"id\":\"3091\",\"type\":\"Line\"},{\"attributes\":{},\"id\":\"3102\",\"type\":\"AllLabels\"},{\"attributes\":{\"end\":104.41,\"reset_end\":104.41,\"reset_start\":51.490000000000045,\"start\":51.490000000000045,\"tags\":[[[\"height\",\"height\",null]]]},\"id\":\"3056\",\"type\":\"Range1d\"},{\"attributes\":{},\"id\":\"3063\",\"type\":\"LinearScale\"},{\"attributes\":{\"coordinates\":null,\"group\":null,\"text_color\":\"black\",\"text_font_size\":\"12pt\"},\"id\":\"3059\",\"type\":\"Title\"},{\"attributes\":{\"callback\":null,\"renderers\":[{\"id\":\"3094\"}],\"tags\":[\"hv_created\"],\"tooltips\":[[\"time\",\"@{time}\"],[\"height\",\"@{height}\"]]},\"id\":\"3057\",\"type\":\"HoverTool\"},{\"attributes\":{\"coordinates\":null,\"data_source\":{\"id\":\"3088\"},\"glyph\":{\"id\":\"3091\"},\"group\":null,\"hover_glyph\":null,\"muted_glyph\":{\"id\":\"3093\"},\"nonselection_glyph\":{\"id\":\"3092\"},\"selection_glyph\":{\"id\":\"3096\"},\"view\":{\"id\":\"3095\"}},\"id\":\"3094\",\"type\":\"GlyphRenderer\"},{\"attributes\":{\"axis_label\":\"time\",\"coordinates\":null,\"formatter\":{\"id\":\"3098\"},\"group\":null,\"major_label_policy\":{\"id\":\"3099\"},\"ticker\":{\"id\":\"3068\"}},\"id\":\"3067\",\"type\":\"LinearAxis\"},{\"attributes\":{\"source\":{\"id\":\"3088\"}},\"id\":\"3095\",\"type\":\"CDSView\"},{\"attributes\":{\"line_color\":\"#30a2da\",\"line_width\":2,\"tags\":[\"apply_ranges\"],\"x\":{\"field\":\"time\"},\"y\":{\"field\":\"height\"}},\"id\":\"3096\",\"type\":\"Line\"},{\"attributes\":{},\"id\":\"3065\",\"type\":\"LinearScale\"},{\"attributes\":{},\"id\":\"3110\",\"type\":\"UnionRenderers\"},{\"attributes\":{},\"id\":\"3098\",\"type\":\"BasicTickFormatter\"},{\"attributes\":{},\"id\":\"3099\",\"type\":\"AllLabels\"},{\"attributes\":{\"axis\":{\"id\":\"3067\"},\"coordinates\":null,\"grid_line_color\":null,\"group\":null,\"ticker\":null},\"id\":\"3070\",\"type\":\"Grid\"},{\"attributes\":{},\"id\":\"3068\",\"type\":\"BasicTicker\"},{\"attributes\":{},\"id\":\"3076\",\"type\":\"PanTool\"},{\"attributes\":{\"axis_label\":\"height\",\"coordinates\":null,\"formatter\":{\"id\":\"3101\"},\"group\":null,\"major_label_policy\":{\"id\":\"3102\"},\"ticker\":{\"id\":\"3072\"}},\"id\":\"3071\",\"type\":\"LinearAxis\"},{\"attributes\":{\"axis\":{\"id\":\"3071\"},\"coordinates\":null,\"dimension\":1,\"grid_line_color\":null,\"group\":null,\"ticker\":null},\"id\":\"3074\",\"type\":\"Grid\"},{\"attributes\":{},\"id\":\"3101\",\"type\":\"BasicTickFormatter\"},{\"attributes\":{},\"id\":\"3072\",\"type\":\"BasicTicker\"}],\"root_ids\":[\"3054\"]},\"title\":\"Bokeh Application\",\"version\":\"2.4.3\"}};\n    var render_items = [{\"docid\":\"a606525b-a35b-4330-9f0f-d49459d4dde6\",\"root_ids\":[\"3054\"],\"roots\":{\"3054\":\"cbbe6c24-92f3-4ce8-838c-e160e5ac7109\"}}];\n    root.Bokeh.embed.embed_items_notebook(docs_json, render_items);\n    for (const render_item of render_items) {\n      for (const root_id of render_item.root_ids) {\n\tconst id_el = document.getElementById(root_id)\n\tif (id_el.children.length && (id_el.children[0].className === 'bk-root')) {\n\t  const root_el = id_el.children[0]\n\t  root_el.id = root_el.id + '-rendered'\n\t}\n      }\n    }\n  }\n  if (root.Bokeh !== undefined && root.Bokeh.Panel !== undefined) {\n    embed_document(root);\n  } else {\n    var attempts = 0;\n    var timer = setInterval(function(root) {\n      if (root.Bokeh !== undefined && root.Bokeh.Panel !== undefined) {\n        clearInterval(timer);\n        embed_document(root);\n      } else if (document.readyState == \"complete\") {\n        attempts++;\n        if (attempts > 200) {\n          clearInterval(timer);\n          console.log(\"Bokeh: ERROR: Unable to run BokehJS code because BokehJS library is missing\");\n        }\n      }\n    }, 25, root)\n  }\n})(window);</script>",
        "text/plain": ":Curve   [time]   (height)"
       },
       "metadata": {
        "application/vnd.holoviews_exec.v0+json": {
         "id": "3054"
        }
       },
       "status": "ok"
      }
     }
    ]
   },
   "source": [
    "::::{grid} \n",
    "\n",
    ":::{card}\n",
    "Conceptual\n",
    ": 🌳🍎🤔 Gravity accelerates objects downword according to Newton's second law of motion.\n",
    ":::\n",
    "\n",
    ":::{card}\n",
    "Mathematical\n",
    ": $$\n",
    "  \\begin{equation}\n",
    "    \\dot{y} &= v \\\\\n",
    "    \\dot{v} &= -g\n",
    "  \\end{equation}\n",
    "  $$\n",
    ":::\n",
    "\n",
    ":::{card}\n",
    "Numerical\n",
    ": {eval}`plta`\n",
    ":::\n",
    "\n",
    "::::"
   ]
  },
  {
   "cell_type": "markdown",
   "id": "8c5a201c-9e48-480e-b544-17011254229f",
   "metadata": {
    "slideshow": {
     "slide_type": "skip"
    },
    "tags": [],
    "user_expressions": []
   },
   "source": [
    "In other cases, the model is not well defined *until* you begin comparing it to observations. A statistical model cannot make predictions until it has been trained on some data from the system it is meant to predict."
   ]
  },
  {
   "cell_type": "markdown",
   "id": "36aae0a5-7668-48c7-b15d-f02c4715314a",
   "metadata": {
    "slideshow": {
     "slide_type": "skip"
    },
    "tags": [],
    "user_expressions": [
     {
      "expression": "pltb",
      "result": {
       "data": {
        "application/vnd.holoviews_exec.v0+json": "",
        "text/html": "<div id='3164'>\n  <div class=\"bk-root\" id=\"e2ef8e51-85a4-43c6-8eb8-eb1b7cf2ae0b\" data-root-id=\"3164\"></div>\n</div>\n<script type=\"application/javascript\">(function(root) {\n  function embed_document(root) {\n    var docs_json = {\"c18643e6-6335-4cb0-b605-2e6b5f5ef317\":{\"defs\":[{\"extends\":null,\"module\":null,\"name\":\"ReactiveHTML1\",\"overrides\":[],\"properties\":[]},{\"extends\":null,\"module\":null,\"name\":\"FlexBox1\",\"overrides\":[],\"properties\":[{\"default\":\"flex-start\",\"kind\":null,\"name\":\"align_content\"},{\"default\":\"flex-start\",\"kind\":null,\"name\":\"align_items\"},{\"default\":\"row\",\"kind\":null,\"name\":\"flex_direction\"},{\"default\":\"wrap\",\"kind\":null,\"name\":\"flex_wrap\"},{\"default\":\"flex-start\",\"kind\":null,\"name\":\"justify_content\"}]},{\"extends\":null,\"module\":null,\"name\":\"GridStack1\",\"overrides\":[],\"properties\":[{\"default\":\"warn\",\"kind\":null,\"name\":\"mode\"},{\"default\":null,\"kind\":null,\"name\":\"ncols\"},{\"default\":null,\"kind\":null,\"name\":\"nrows\"},{\"default\":true,\"kind\":null,\"name\":\"allow_resize\"},{\"default\":true,\"kind\":null,\"name\":\"allow_drag\"},{\"default\":[],\"kind\":null,\"name\":\"state\"}]},{\"extends\":null,\"module\":null,\"name\":\"click1\",\"overrides\":[],\"properties\":[{\"default\":\"\",\"kind\":null,\"name\":\"terminal_output\"},{\"default\":\"\",\"kind\":null,\"name\":\"debug_name\"},{\"default\":0,\"kind\":null,\"name\":\"clears\"}]},{\"extends\":null,\"module\":null,\"name\":\"NotificationAreaBase1\",\"overrides\":[],\"properties\":[{\"default\":\"bottom-right\",\"kind\":null,\"name\":\"position\"},{\"default\":0,\"kind\":null,\"name\":\"_clear\"}]},{\"extends\":null,\"module\":null,\"name\":\"NotificationArea1\",\"overrides\":[],\"properties\":[{\"default\":[],\"kind\":null,\"name\":\"notifications\"},{\"default\":\"bottom-right\",\"kind\":null,\"name\":\"position\"},{\"default\":0,\"kind\":null,\"name\":\"_clear\"},{\"default\":[{\"background\":\"#ffc107\",\"icon\":{\"className\":\"fas fa-exclamation-triangle\",\"color\":\"white\",\"tagName\":\"i\"},\"type\":\"warning\"},{\"background\":\"#007bff\",\"icon\":{\"className\":\"fas fa-info-circle\",\"color\":\"white\",\"tagName\":\"i\"},\"type\":\"info\"}],\"kind\":null,\"name\":\"types\"}]},{\"extends\":null,\"module\":null,\"name\":\"Notification\",\"overrides\":[],\"properties\":[{\"default\":null,\"kind\":null,\"name\":\"background\"},{\"default\":3000,\"kind\":null,\"name\":\"duration\"},{\"default\":null,\"kind\":null,\"name\":\"icon\"},{\"default\":\"\",\"kind\":null,\"name\":\"message\"},{\"default\":null,\"kind\":null,\"name\":\"notification_type\"},{\"default\":false,\"kind\":null,\"name\":\"_destroyed\"}]},{\"extends\":null,\"module\":null,\"name\":\"TemplateActions1\",\"overrides\":[],\"properties\":[{\"default\":0,\"kind\":null,\"name\":\"open_modal\"},{\"default\":0,\"kind\":null,\"name\":\"close_modal\"}]},{\"extends\":null,\"module\":null,\"name\":\"MaterialTemplateActions1\",\"overrides\":[],\"properties\":[{\"default\":0,\"kind\":null,\"name\":\"open_modal\"},{\"default\":0,\"kind\":null,\"name\":\"close_modal\"}]}],\"roots\":{\"references\":[{\"attributes\":{},\"id\":\"3187\",\"type\":\"WheelZoomTool\"},{\"attributes\":{\"angle\":{\"value\":0.0},\"fill_alpha\":{\"value\":1.0},\"fill_color\":{\"value\":\"#30a2da\"},\"hatch_alpha\":{\"value\":1.0},\"hatch_color\":{\"value\":\"#30a2da\"},\"hatch_scale\":{\"value\":12.0},\"hatch_weight\":{\"value\":1.0},\"line_alpha\":{\"value\":1.0},\"line_cap\":{\"value\":\"butt\"},\"line_color\":{\"value\":\"#30a2da\"},\"line_dash\":{\"value\":[]},\"line_dash_offset\":{\"value\":0},\"line_join\":{\"value\":\"bevel\"},\"line_width\":{\"value\":1},\"marker\":{\"value\":\"circle\"},\"size\":{\"value\":5.477225575051661},\"tags\":[\"apply_ranges\"],\"x\":{\"field\":\"X\"},\"y\":{\"field\":\"y\"}},\"id\":\"3212\",\"type\":\"Scatter\"},{\"attributes\":{},\"id\":\"3185\",\"type\":\"SaveTool\"},{\"attributes\":{},\"id\":\"3223\",\"type\":\"UnionRenderers\"},{\"attributes\":{\"overlay\":{\"id\":\"3190\"}},\"id\":\"3188\",\"type\":\"BoxZoomTool\"},{\"attributes\":{},\"id\":\"3189\",\"type\":\"ResetTool\"},{\"attributes\":{\"data\":{\"X\":{\"__ndarray__\":\"mpmZmZmZuT+amZmZmZnJPzMzMzMzM9M/mpmZmZmZ2T8AAAAAAADgPzMzMzMzM+M/ZmZmZmZm5j+amZmZmZnpPw==\",\"dtype\":\"float64\",\"order\":\"little\",\"shape\":[8]},\"y\":{\"__ndarray__\":\"MzMzMzMz0z/NzMzMzMzcP+F6FK5H4do/UrgehetR4D+4HoXrUbjeP6RwPQrXo+A/KVyPwvUo5D/NzMzMzMzkPw==\",\"dtype\":\"float64\",\"order\":\"little\",\"shape\":[8]}},\"selected\":{\"id\":\"3205\"},\"selection_policy\":{\"id\":\"3223\"}},\"id\":\"3204\",\"type\":\"ColumnDataSource\"},{\"attributes\":{\"bottom_units\":\"screen\",\"coordinates\":null,\"fill_alpha\":0.5,\"fill_color\":\"lightgrey\",\"group\":null,\"left_units\":\"screen\",\"level\":\"overlay\",\"line_alpha\":1.0,\"line_color\":\"black\",\"line_dash\":[4,4],\"line_width\":2,\"right_units\":\"screen\",\"syncable\":false,\"top_units\":\"screen\"},\"id\":\"3190\",\"type\":\"BoxAnnotation\"},{\"attributes\":{},\"id\":\"3178\",\"type\":\"BasicTicker\"},{\"attributes\":{\"end\":0.685,\"reset_end\":0.685,\"reset_start\":0.265,\"start\":0.265,\"tags\":[[[\"y\",\"y\",null]]]},\"id\":\"3166\",\"type\":\"Range1d\"},{\"attributes\":{\"tools\":[{\"id\":\"3167\"},{\"id\":\"3185\"},{\"id\":\"3186\"},{\"id\":\"3187\"},{\"id\":\"3188\"},{\"id\":\"3189\"}]},\"id\":\"3191\",\"type\":\"Toolbar\"},{\"attributes\":{},\"id\":\"3173\",\"type\":\"LinearScale\"},{\"attributes\":{},\"id\":\"3199\",\"type\":\"BasicTickFormatter\"},{\"attributes\":{\"coordinates\":null,\"gradient\":0.45,\"group\":null,\"level\":\"glyph\",\"line_color\":\"orange\",\"line_width\":3,\"y_intercept\":0.3},\"id\":\"3215\",\"type\":\"Slope\"},{\"attributes\":{\"fill_alpha\":{\"value\":0.1},\"fill_color\":{\"value\":\"#30a2da\"},\"hatch_alpha\":{\"value\":0.1},\"hatch_color\":{\"value\":\"#30a2da\"},\"line_alpha\":{\"value\":0.1},\"line_color\":{\"value\":\"#30a2da\"},\"size\":{\"value\":5.477225575051661},\"tags\":[\"apply_ranges\"],\"x\":{\"field\":\"X\"},\"y\":{\"field\":\"y\"}},\"id\":\"3208\",\"type\":\"Scatter\"},{\"attributes\":{},\"id\":\"3202\",\"type\":\"BasicTickFormatter\"},{\"attributes\":{\"end\":0.8700000000000001,\"reset_end\":0.8700000000000001,\"reset_start\":0.03,\"start\":0.03,\"tags\":[[[\"X\",\"X\",null]]]},\"id\":\"3165\",\"type\":\"Range1d\"},{\"attributes\":{},\"id\":\"3203\",\"type\":\"AllLabels\"},{\"attributes\":{},\"id\":\"3205\",\"type\":\"Selection\"},{\"attributes\":{\"callback\":null,\"renderers\":[{\"id\":\"3210\"}],\"tags\":[\"hv_created\"],\"tooltips\":[[\"X\",\"@{X}\"],[\"y\",\"@{y}\"]]},\"id\":\"3167\",\"type\":\"HoverTool\"},{\"attributes\":{},\"id\":\"3175\",\"type\":\"LinearScale\"},{\"attributes\":{\"coordinates\":null,\"group\":null,\"text_color\":\"black\",\"text_font_size\":\"12pt\"},\"id\":\"3169\",\"type\":\"Title\"},{\"attributes\":{\"below\":[{\"id\":\"3177\"}],\"center\":[{\"id\":\"3180\"},{\"id\":\"3184\"},{\"id\":\"3215\"}],\"frame_height\":100,\"frame_width\":100,\"height\":null,\"left\":[{\"id\":\"3181\"}],\"margin\":[5,5,5,5],\"min_border_bottom\":10,\"min_border_left\":10,\"min_border_right\":10,\"min_border_top\":10,\"output_backend\":\"webgl\",\"renderers\":[{\"id\":\"3210\"}],\"sizing_mode\":\"fixed\",\"title\":{\"id\":\"3169\"},\"toolbar\":{\"id\":\"3191\"},\"toolbar_location\":null,\"width\":null,\"x_range\":{\"id\":\"3165\"},\"x_scale\":{\"id\":\"3173\"},\"y_range\":{\"id\":\"3166\"},\"y_scale\":{\"id\":\"3175\"}},\"id\":\"3168\",\"subtype\":\"Figure\",\"type\":\"Plot\"},{\"attributes\":{\"axis\":{\"id\":\"3177\"},\"coordinates\":null,\"grid_line_color\":null,\"group\":null,\"ticker\":null},\"id\":\"3180\",\"type\":\"Grid\"},{\"attributes\":{\"axis_label\":\"X\",\"coordinates\":null,\"formatter\":{\"id\":\"3199\"},\"group\":null,\"major_label_policy\":{\"id\":\"3200\"},\"ticker\":{\"id\":\"3178\"}},\"id\":\"3177\",\"type\":\"LinearAxis\"},{\"attributes\":{\"fill_color\":{\"value\":\"#30a2da\"},\"hatch_color\":{\"value\":\"#30a2da\"},\"line_color\":{\"value\":\"#30a2da\"},\"size\":{\"value\":5.477225575051661},\"tags\":[\"apply_ranges\"],\"x\":{\"field\":\"X\"},\"y\":{\"field\":\"y\"}},\"id\":\"3207\",\"type\":\"Scatter\"},{\"attributes\":{},\"id\":\"3186\",\"type\":\"PanTool\"},{\"attributes\":{\"fill_alpha\":{\"value\":0.2},\"fill_color\":{\"value\":\"#30a2da\"},\"hatch_alpha\":{\"value\":0.2},\"hatch_color\":{\"value\":\"#30a2da\"},\"line_alpha\":{\"value\":0.2},\"line_color\":{\"value\":\"#30a2da\"},\"size\":{\"value\":5.477225575051661},\"tags\":[\"apply_ranges\"],\"x\":{\"field\":\"X\"},\"y\":{\"field\":\"y\"}},\"id\":\"3209\",\"type\":\"Scatter\"},{\"attributes\":{},\"id\":\"3200\",\"type\":\"AllLabels\"},{\"attributes\":{\"coordinates\":null,\"data_source\":{\"id\":\"3204\"},\"glyph\":{\"id\":\"3207\"},\"group\":null,\"hover_glyph\":null,\"muted_glyph\":{\"id\":\"3209\"},\"nonselection_glyph\":{\"id\":\"3208\"},\"selection_glyph\":{\"id\":\"3212\"},\"view\":{\"id\":\"3211\"}},\"id\":\"3210\",\"type\":\"GlyphRenderer\"},{\"attributes\":{\"children\":[{\"id\":\"3168\"}],\"margin\":[0,0,0,0],\"name\":\"Row03627\",\"sizing_mode\":\"fixed\",\"tags\":[\"embedded\"]},\"id\":\"3164\",\"type\":\"Row\"},{\"attributes\":{\"axis_label\":\"y\",\"coordinates\":null,\"formatter\":{\"id\":\"3202\"},\"group\":null,\"major_label_policy\":{\"id\":\"3203\"},\"ticker\":{\"id\":\"3182\"}},\"id\":\"3181\",\"type\":\"LinearAxis\"},{\"attributes\":{\"source\":{\"id\":\"3204\"}},\"id\":\"3211\",\"type\":\"CDSView\"},{\"attributes\":{\"axis\":{\"id\":\"3181\"},\"coordinates\":null,\"dimension\":1,\"grid_line_color\":null,\"group\":null,\"ticker\":null},\"id\":\"3184\",\"type\":\"Grid\"},{\"attributes\":{},\"id\":\"3182\",\"type\":\"BasicTicker\"}],\"root_ids\":[\"3164\"]},\"title\":\"Bokeh Application\",\"version\":\"2.4.3\"}};\n    var render_items = [{\"docid\":\"c18643e6-6335-4cb0-b605-2e6b5f5ef317\",\"root_ids\":[\"3164\"],\"roots\":{\"3164\":\"e2ef8e51-85a4-43c6-8eb8-eb1b7cf2ae0b\"}}];\n    root.Bokeh.embed.embed_items_notebook(docs_json, render_items);\n    for (const render_item of render_items) {\n      for (const root_id of render_item.root_ids) {\n\tconst id_el = document.getElementById(root_id)\n\tif (id_el.children.length && (id_el.children[0].className === 'bk-root')) {\n\t  const root_el = id_el.children[0]\n\t  root_el.id = root_el.id + '-rendered'\n\t}\n      }\n    }\n  }\n  if (root.Bokeh !== undefined && root.Bokeh.Panel !== undefined) {\n    embed_document(root);\n  } else {\n    var attempts = 0;\n    var timer = setInterval(function(root) {\n      if (root.Bokeh !== undefined && root.Bokeh.Panel !== undefined) {\n        clearInterval(timer);\n        embed_document(root);\n      } else if (document.readyState == \"complete\") {\n        attempts++;\n        if (attempts > 200) {\n          clearInterval(timer);\n          console.log(\"Bokeh: ERROR: Unable to run BokehJS code because BokehJS library is missing\");\n        }\n      }\n    }, 25, root)\n  }\n})(window);</script>",
        "text/plain": ":Overlay\n   .Scatter.I    :Scatter   [X]   (y)\n   .Annotation.I :Slope   [x,y]"
       },
       "metadata": {
        "application/vnd.holoviews_exec.v0+json": {
         "id": "3164"
        }
       },
       "status": "ok"
      }
     }
    ]
   },
   "source": [
    "::::{grid}\n",
    "\n",
    ":::{card}\n",
    "Conceptual\n",
    ": A person's risk of developing diabetes depends on their age, sex, body mass index, blood pressure, and several quantitative blood serum properties.\n",
    ":::\n",
    "\n",
    ":::{card}\n",
    "Mathematical\n",
    ": $$\n",
    "  \\begin{equation}\n",
    "    \\hat{y} = \\alpha + X \\beta\n",
    "  \\end{equation}\n",
    "  $$\n",
    ":::\n",
    "\n",
    ":::{card}\n",
    "Numerical\n",
    ": {eval}`pltb`\n",
    ":::\n",
    "\n",
    "::::"
   ]
  },
  {
   "cell_type": "markdown",
   "id": "b66d8858-8933-49ba-87b7-64ac87c26caa",
   "metadata": {
    "slideshow": {
     "slide_type": "skip"
    },
    "tags": [],
    "user_expressions": []
   },
   "source": [
    "There are different paradigms for the best approach to evaluate the kind of model that requies training. A traditional split in Statistics departments has been between frequentist and Baysian approaches. Both require some solid statistical background, so this lesson instead uses the cross-validation approach that is adopted by most machine-learning analyses."
   ]
  },
  {
   "cell_type": "markdown",
   "id": "b8981d43-c8b5-497c-a354-3ce462b80abf",
   "metadata": {
    "slideshow": {
     "slide_type": "skip"
    },
    "tags": [],
    "user_expressions": []
   },
   "source": [
    ":::{seealso} Cross-validation\n",
    "Splitting a dataset into a subset used for training and a distinct subset used for testing makes it possible to evaluate the model fairly. Evaluating a model on the data used to train it will give an overly optimistic assessment.\n",
    ":::"
   ]
  },
  {
   "cell_type": "markdown",
   "id": "02262944-b6e8-4ac3-b5dd-35e82dcec822",
   "metadata": {
    "slideshow": {
     "slide_type": "slide"
    },
    "tags": [],
    "user_expressions": []
   },
   "source": [
    "## A Dataset for Regression"
   ]
  },
  {
   "cell_type": "markdown",
   "id": "2d85348e-5940-4da3-a4e1-d33b1e436e3d",
   "metadata": {
    "slideshow": {
     "slide_type": "skip"
    },
    "tags": [],
    "user_expressions": []
   },
   "source": [
    "The scikit-learn package builds in a few small datasets that are used in examples throughout the package documentation. In this dataset, the \"sample\" dimension corresponds to different study participants. The \"feature\" dimension corresponds to the different variables that may predict disease progression."
   ]
  },
  {
   "cell_type": "code",
   "execution_count": null,
   "id": "8e0280ff-0ae5-451b-a68d-f5bd2f773032",
   "metadata": {
    "slideshow": {
     "slide_type": "slide"
    },
    "tags": []
   },
   "outputs": [],
   "source": [
    "sk_diabetes = sklearn.datasets.load_diabetes()\n",
    "sk_diabetes.data"
   ]
  },
  {
   "cell_type": "code",
   "execution_count": null,
   "id": "23b390c7-ea12-4877-8817-a40a1dd49124",
   "metadata": {
    "slideshow": {
     "slide_type": "slide"
    },
    "tags": []
   },
   "outputs": [],
   "source": [
    "x = xarray.DataArray(\n",
    "    data=sk_diabetes.data,\n",
    "    dims=('sample', 'feature'),\n",
    "    coords={\n",
    "        'feature': sk_diabetes.feature_names,\n",
    "    },\n",
    "    name='x',\n",
    ")\n",
    "x"
   ]
  },
  {
   "cell_type": "code",
   "execution_count": null,
   "id": "927ee90b-b224-4a76-aad2-b9718176d6bc",
   "metadata": {
    "slideshow": {
     "slide_type": "slide"
    },
    "tags": []
   },
   "outputs": [],
   "source": [
    "x.hvplot.hist(groupby=['feature'], widget_location='top')"
   ]
  },
  {
   "cell_type": "markdown",
   "id": "4f8996a5-4d97-46eb-890b-9b12cd1ce75c",
   "metadata": {
    "slideshow": {
     "slide_type": "skip"
    },
    "tags": [],
    "user_expressions": []
   },
   "source": [
    "The response varialbe, what the features may help predict, is a continuous measure of progression towards development of diabetes. The fact that it is continuous, rather than discrete or categorical, is what makes the dataset suitable for regression."
   ]
  },
  {
   "cell_type": "code",
   "execution_count": null,
   "id": "687bb7fa-0364-4494-a2f3-ac7a2c8c5f96",
   "metadata": {
    "slideshow": {
     "slide_type": "slide"
    },
    "tags": []
   },
   "outputs": [],
   "source": [
    "y = xarray.DataArray(\n",
    "    data=sk_diabetes.target,\n",
    "    dims='sample',\n",
    "    name='y',\n",
    ")\n",
    "diabetes = xarray.merge((y, x))\n",
    "diabetes"
   ]
  },
  {
   "cell_type": "markdown",
   "id": "fec5b518-81ce-4649-9660-300b5efa22bd",
   "metadata": {
    "slideshow": {
     "slide_type": "skip"
    },
    "tags": [],
    "user_expressions": []
   },
   "source": [
    "::::{grid} 1 1 2 2\n",
    "\n",
    ":::{seealso} Regression\n",
    "The outputs, or what a regression model predicts, are continuous: they result from a measurement that could give any number (or any number within some bounds). The inputs to a regression can be continuous or discrete.\n",
    ":::\n",
    "\n",
    ":::{seealso} Classification\n",
    "The outputs, or what a classifier predicts, are discrete and unordered: they result from assigning each observation to one of two or more types. The inputs to a classifier can be continuous or discrete.\n",
    ":::\n",
    "\n",
    "::::"
   ]
  },
  {
   "cell_type": "markdown",
   "id": "09de06c3-52a3-4464-a2f3-8c92cbaf5e15",
   "metadata": {
    "slideshow": {
     "slide_type": "skip"
    },
    "tags": [],
    "user_expressions": []
   },
   "source": [
    "Data exploration through visualization can reveal whether any one feature might help predict the response, but we will need a model to explore using all features at the same time."
   ]
  },
  {
   "cell_type": "code",
   "execution_count": null,
   "id": "970cbf7a-2032-4a0d-8f94-32443c2acb70",
   "metadata": {
    "slideshow": {
     "slide_type": "slide"
    },
    "tags": []
   },
   "outputs": [],
   "source": [
    "diabetes.hvplot.scatter(y='y', x='x', groupby='feature', widget_location='top')"
   ]
  },
  {
   "cell_type": "markdown",
   "id": "a4ae7885-da43-4029-932e-c471e92fd7db",
   "metadata": {
    "slideshow": {
     "slide_type": "skip"
    },
    "tags": [],
    "user_expressions": []
   },
   "source": [
    "Before using scikit-learn to train and evaluate a model, the dataset must be split for cross-validation. Typically the subsetting is done with randomization, to remove any effect of the order that sample appear in the array."
   ]
  },
  {
   "cell_type": "code",
   "execution_count": null,
   "id": "5615fca0-e52f-4b19-bcc0-3ba55a85d679",
   "metadata": {
    "scrolled": true,
    "slideshow": {
     "slide_type": "slide"
    },
    "tags": []
   },
   "outputs": [],
   "source": [
    "train_or_test = numpy.random.choice(\n",
    "    a=('train', 'test'),\n",
    "    size=diabetes.sizes['sample'],\n",
    "    p=(0.8, 0.2),\n",
    ")\n",
    "train_or_test"
   ]
  },
  {
   "cell_type": "code",
   "execution_count": null,
   "id": "9c5c24f9-1bfe-4bad-bd14-e2c0c250b99c",
   "metadata": {
    "scrolled": true,
    "slideshow": {
     "slide_type": "slide"
    },
    "tags": [
     "raises-exception"
    ]
   },
   "outputs": [],
   "source": [
    "train = diabetes.where(train_or_test=='train', drop=True)\n",
    "train"
   ]
  },
  {
   "cell_type": "markdown",
   "id": "6c41f4ce-c073-4190-b658-360401852ff7",
   "metadata": {
    "slideshow": {
     "slide_type": "skip"
    },
    "tags": [],
    "user_expressions": []
   },
   "source": [
    "A `%debug` cell lets you dive into the stack of the most recent error and inspect what went wrong. The `train_or_test` array needs to have labeled dimensions for the `where` to work."
   ]
  },
  {
   "cell_type": "code",
   "execution_count": null,
   "id": "e47e6cab-8859-4511-9ab1-7518e9f5bd27",
   "metadata": {
    "slideshow": {
     "slide_type": "slide"
    },
    "tags": []
   },
   "outputs": [],
   "source": [
    "# %debug"
   ]
  },
  {
   "cell_type": "code",
   "execution_count": null,
   "id": "5ba15d14-1a9e-4126-8540-8a52090ddaa1",
   "metadata": {
    "slideshow": {
     "slide_type": "slide"
    },
    "tags": []
   },
   "outputs": [],
   "source": [
    "train_or_test = xarray.DataArray(train_or_test, dims='sample')"
   ]
  },
  {
   "cell_type": "code",
   "execution_count": null,
   "id": "27b9c02e-65b8-4213-a675-5da6da5ab12c",
   "metadata": {
    "slideshow": {
     "slide_type": "slide"
    },
    "tags": []
   },
   "outputs": [],
   "source": [
    "train = diabetes.where(train_or_test=='train', drop=True)\n",
    "train"
   ]
  },
  {
   "cell_type": "code",
   "execution_count": null,
   "id": "57a7e516-dc7f-4c13-bcab-ef29d44e4c8e",
   "metadata": {
    "slideshow": {
     "slide_type": "slide"
    },
    "tags": []
   },
   "outputs": [],
   "source": [
    "test = diabetes.where(train_or_test=='test', drop=True)\n",
    "test"
   ]
  },
  {
   "cell_type": "markdown",
   "id": "b6922f8a-a0fd-4352-8cec-77e5503ab836",
   "metadata": {
    "slideshow": {
     "slide_type": "slide"
    },
    "tags": [],
    "user_expressions": []
   },
   "source": [
    "## Training"
   ]
  },
  {
   "cell_type": "markdown",
   "id": "075a523e-b4e9-4e90-b5a7-3c7a626b01ca",
   "metadata": {
    "slideshow": {
     "slide_type": "skip"
    },
    "tags": [],
    "user_expressions": []
   },
   "source": [
    "The scikit-learn package includes many kinds of models, and does a good job at making the interface to using them all pretty similar. Understanding the case of linear regression opens lots of doors for different models."
   ]
  },
  {
   "cell_type": "code",
   "execution_count": null,
   "id": "c64d51f2-0136-43cf-921f-4477b3c1cbbb",
   "metadata": {
    "slideshow": {
     "slide_type": "slide"
    },
    "tags": []
   },
   "outputs": [],
   "source": [
    "model = sklearn.linear_model.LinearRegression()"
   ]
  },
  {
   "cell_type": "markdown",
   "id": "c305954e-45cd-46e4-93f8-6c7575a8fde9",
   "metadata": {
    "slideshow": {
     "slide_type": "skip"
    },
    "tags": [],
    "user_expressions": []
   },
   "source": [
    ":::{seealso} Supervised Learning\n",
    "Supervised learning is the subset of statistical models that rely on having both inputs and outputs on hand to train. The alternative, \"un-supervised\" learning involves training models just on inputs; for example, clustering high-dimensional inputs into unkown but similar categories, or change-point detection in a time series.\n",
    ":::"
   ]
  },
  {
   "cell_type": "code",
   "execution_count": null,
   "id": "a68a27e4-d66e-4697-834d-076dc6db101a",
   "metadata": {
    "slideshow": {
     "slide_type": "slide"
    },
    "tags": []
   },
   "outputs": [],
   "source": [
    "x = train['x']\n",
    "y = train['y']"
   ]
  },
  {
   "cell_type": "markdown",
   "id": "f18ccaaf-798a-47c5-8e6d-c52fbe61fb75",
   "metadata": {
    "slideshow": {
     "slide_type": "skip"
    },
    "tags": [],
    "user_expressions": []
   },
   "source": [
    "Every scikit-learn model for supervised learning has a `fit` method that takes the inputs (a.k.a. features or predictors) as the first argument and the outputs (a.k.a. targets, labels, or responses) as the second argument."
   ]
  },
  {
   "cell_type": "code",
   "execution_count": null,
   "id": "ecac3000-24e5-47da-9b05-0230b4814b47",
   "metadata": {
    "slideshow": {
     "slide_type": "slide"
    },
    "tags": []
   },
   "outputs": [],
   "source": [
    "model = model.fit(x, y)"
   ]
  },
  {
   "cell_type": "markdown",
   "id": "bde3e34e-1963-4da5-aa13-dfe8a7334540",
   "metadata": {
    "slideshow": {
     "slide_type": "skip"
    },
    "tags": [],
    "user_expressions": []
   },
   "source": [
    "A trained model can now be used to make predictions based on the inputs alone. Note that \"prediction\" is not used in modeling to mean predicting into the future (which is \"forecasting\"). The name \"estimate\" might be more logical."
   ]
  },
  {
   "cell_type": "code",
   "execution_count": null,
   "id": "4ccc58f7-babb-4ddb-832b-f1dddc43a06f",
   "metadata": {
    "slideshow": {
     "slide_type": "slide"
    },
    "tags": []
   },
   "outputs": [],
   "source": [
    "train['estimate'] = ('sample', model.predict(x))\n",
    "train"
   ]
  },
  {
   "cell_type": "markdown",
   "id": "c1be0c34-9330-4f6a-aa41-65ca66c2e2c7",
   "metadata": {
    "slideshow": {
     "slide_type": "skip"
    },
    "tags": [],
    "user_expressions": []
   },
   "source": [
    "If the fitting procedure has worked, then the estimate should track the outputs \"y\". For the case of univariate outputs, a one:one plot provides a good visual check."
   ]
  },
  {
   "cell_type": "code",
   "execution_count": null,
   "id": "94784445-e0df-4d55-a826-8525b43b49ab",
   "metadata": {
    "slideshow": {
     "slide_type": "slide"
    },
    "tags": []
   },
   "outputs": [],
   "source": [
    "(\n",
    "    train.drop_dims('feature').hvplot.scatter(x='y', y='estimate')\n",
    "    * holoviews.Slope(1, 0).opts(color='orange')\n",
    ")"
   ]
  },
  {
   "cell_type": "markdown",
   "id": "55bda99b-ed56-44fd-ad79-929cc18c936a",
   "metadata": {
    "slideshow": {
     "slide_type": "skip"
    },
    "tags": [],
    "user_expressions": []
   },
   "source": [
    ":::{attention} Exercise 1\n",
    "Open the \"practice.ipynb\" notebook and begin the first exercise.\n",
    ":::"
   ]
  },
  {
   "cell_type": "markdown",
   "id": "271eb230-18a4-4f44-8657-9a9bb2ee8ca6",
   "metadata": {
    "slideshow": {
     "slide_type": "slide"
    },
    "tags": [],
    "user_expressions": []
   },
   "source": [
    "## Evaluation"
   ]
  },
  {
   "cell_type": "markdown",
   "id": "44b77e87-7888-4e57-bfec-679dd91258dc",
   "metadata": {
    "slideshow": {
     "slide_type": "skip"
    },
    "tags": [],
    "user_expressions": []
   },
   "source": [
    "Cross-validation requires that any model evaluation should be performed on data that was not used during the fitting process."
   ]
  },
  {
   "cell_type": "code",
   "execution_count": null,
   "id": "9e9eb326-c4af-4e8f-82ed-4df8414293e8",
   "metadata": {
    "slideshow": {
     "slide_type": "slide"
    },
    "tags": []
   },
   "outputs": [],
   "source": [
    "x = test['x']\n",
    "y = test['y']\n",
    "test['estimate'] = ('sample', model.predict(x))\n",
    "test = test.drop_dims('feature')"
   ]
  },
  {
   "cell_type": "code",
   "execution_count": null,
   "id": "11fc33ca-dad4-42fe-8cdf-cddcca1c9755",
   "metadata": {
    "slideshow": {
     "slide_type": "slide"
    },
    "tags": []
   },
   "outputs": [],
   "source": [
    "(\n",
    "    test.hvplot.scatter(x='y', y='estimate')\n",
    "    * holoviews.Slope(1, 0).opts(color='orange')\n",
    ")"
   ]
  },
  {
   "cell_type": "markdown",
   "id": "b31bc8fe-77cb-4485-b9ed-f05e33cb6f14",
   "metadata": {
    "slideshow": {
     "slide_type": "skip"
    },
    "tags": [],
    "user_expressions": []
   },
   "source": [
    "Quantitative metrics of the quality of the model begins with examining the residuals, of the difference between the observations and the estimates."
   ]
  },
  {
   "cell_type": "code",
   "execution_count": null,
   "id": "46f2d604-2a05-4197-8f60-fc477dcf502f",
   "metadata": {
    "slideshow": {
     "slide_type": "slide"
    },
    "tags": []
   },
   "outputs": [],
   "source": [
    "test['residual'] = test['y'] - test['estimate']\n",
    "test['cludge'] = test['y'] * 0 # sorry about this, but it gets errorbars in the plot below"
   ]
  },
  {
   "cell_type": "code",
   "execution_count": null,
   "id": "8259ba99-c9dc-44af-b09a-214e3560f025",
   "metadata": {
    "slideshow": {
     "slide_type": "slide"
    },
    "tags": []
   },
   "outputs": [],
   "source": [
    "(\n",
    "    test.hvplot.scatter(x='y', y='estimate')\n",
    "    * test.hvplot.errorbars(x='y', y='estimate', yerr1='cludge', yerr2='residual', hover=[])\n",
    "    * holoviews.Slope(1, 0).opts(color='orange')\n",
    ")"
   ]
  },
  {
   "cell_type": "markdown",
   "id": "cb953ecb-0a4d-4faf-aa9b-0bbe3db3efe6",
   "metadata": {
    "slideshow": {
     "slide_type": "skip"
    },
    "tags": [],
    "user_expressions": []
   },
   "source": [
    "Analysis of the residuals beings simply, but can grow fairly sophisticated. One overall summary is called the coefficient of determination, or $R^2$."
   ]
  },
  {
   "cell_type": "code",
   "execution_count": null,
   "id": "5d4573b6-cfe9-427f-877d-fad9ecfd45e0",
   "metadata": {
    "slideshow": {
     "slide_type": "slide"
    },
    "tags": []
   },
   "outputs": [],
   "source": [
    "RSS = (test['residual'] ** 2).sum()\n",
    "TSS = test['y'].var() * test.sizes['sample']\n",
    "1 - RSS / TSS"
   ]
  },
  {
   "cell_type": "markdown",
   "id": "a81fc7ad-630c-4531-9060-5fc1a96d8020",
   "metadata": {
    "slideshow": {
     "slide_type": "skip"
    },
    "tags": [],
    "user_expressions": []
   },
   "source": [
    "This or some other scalar metric is so useful, especially for checking for overfitting, that most scikit-learn models have a built in method for returning this model \"score\"."
   ]
  },
  {
   "cell_type": "markdown",
   "id": "02089c04-36f9-4e4e-9e23-824f29db34e6",
   "metadata": {
    "slideshow": {
     "slide_type": "skip"
    },
    "tags": [],
    "user_expressions": []
   },
   "source": [
    ":::{seealso} Overfitting\n",
    "When a model learns to predict the training data too well, it sometimes starts to perform worse on the testing data. The simplest way to cause overfitting is to train on too small a data sample.\n",
    ":::"
   ]
  },
  {
   "cell_type": "markdown",
   "id": "75de1b59-4cfd-459e-959b-6036840ac4bc",
   "metadata": {
    "slideshow": {
     "slide_type": "skip"
    },
    "tags": [],
    "user_expressions": []
   },
   "source": [
    "When the score on the test data is worse than the score on the training data, that means the model does not generalize. Unfortunately, there is not any particular difference between the train and test score that is decidedly too big. There is always noise, but this one looks okay!"
   ]
  },
  {
   "cell_type": "code",
   "execution_count": null,
   "id": "d251a6a0-f90e-46bf-8e9a-985fabeb03a0",
   "metadata": {
    "slideshow": {
     "slide_type": "slide"
    },
    "tags": []
   },
   "outputs": [],
   "source": [
    "model.score(x, y)"
   ]
  },
  {
   "cell_type": "code",
   "execution_count": null,
   "id": "ca3b2976-4e00-4299-9125-2c148109b81d",
   "metadata": {
    "slideshow": {
     "slide_type": "fragment"
    },
    "tags": []
   },
   "outputs": [],
   "source": [
    "model.score(train['x'], train['y'])"
   ]
  },
  {
   "cell_type": "markdown",
   "id": "f17df6ad-4a70-477d-b124-d4b4160797b9",
   "metadata": {
    "slideshow": {
     "slide_type": "skip"
    },
    "tags": [],
    "user_expressions": []
   },
   "source": [
    "Beyond the overall score, and once overfitting has been ruled out, the next step in examining the model residuals is to consider their histogram. Residuals are ideally just noise, meaning the histogram should look like the histogram of a random variable. Different models allow different choices of the random variable, but without going into details, this histogram looks okay!"
   ]
  },
  {
   "cell_type": "code",
   "execution_count": null,
   "id": "1d3fbe39-fce5-4c1d-8058-c247eb2c61df",
   "metadata": {
    "slideshow": {
     "slide_type": "slide"
    },
    "tags": []
   },
   "outputs": [],
   "source": [
    "(\n",
    "    test['residual'].hvplot.hist()\n",
    "    * holoviews.VLine(test['residual'].mean().item()).opts(color='red', line_dash='dotted')\n",
    "    * holoviews.VLine(test['residual'].median().item())\n",
    ")"
   ]
  },
  {
   "cell_type": "markdown",
   "id": "01c396b6-6964-4ddf-83b3-61760a10801f",
   "metadata": {
    "slideshow": {
     "slide_type": "skip"
    },
    "tags": [],
    "user_expressions": []
   },
   "source": [
    "Even if the distribution looks random, closer examination could reveal patterns in the residuals. For this model, the residuals appear to correlate with the response."
   ]
  },
  {
   "cell_type": "code",
   "execution_count": null,
   "id": "c460ea4d-fc8f-421c-825e-ef6257568ab9",
   "metadata": {
    "slideshow": {
     "slide_type": "slide"
    },
    "tags": []
   },
   "outputs": [],
   "source": [
    "test.hvplot.scatter(x='y', y='residual', groupby=[])"
   ]
  },
  {
   "cell_type": "markdown",
   "id": "0d7ed369-64ce-4a2a-8545-95eba128cc8a",
   "metadata": {
    "slideshow": {
     "slide_type": "skip"
    },
    "tags": [],
    "user_expressions": []
   },
   "source": [
    "The correlation means there will be some bias in the estimate: a truly high risk of diabetes is underestimated (the estimate is lower than the observation). That's not a good model to use in a health care setting, so it is time to start considering a more flexible model. But beware! With great model flexibility, comes great potential for overfitting."
   ]
  },
  {
   "cell_type": "markdown",
   "id": "62136ac1-fe99-4913-a135-6dd03336d233",
   "metadata": {
    "slideshow": {
     "slide_type": "skip"
    },
    "tags": [],
    "user_expressions": []
   },
   "source": [
    ":::{attention} Exercise 2\n",
    "Open the \"practice.ipynb\" notebook and tackle the second exercise.\n",
    ":::"
   ]
  },
  {
   "cell_type": "markdown",
   "id": "58ddf2c9-f67c-46a3-a3e2-7a8be21dfbb1",
   "metadata": {
    "slideshow": {
     "slide_type": "slide"
    },
    "tags": [],
    "user_expressions": []
   },
   "source": [
    "## Next Steps"
   ]
  },
  {
   "cell_type": "markdown",
   "id": "a83bad66-b32a-48fc-a416-126a828b204a",
   "metadata": {
    "slideshow": {
     "slide_type": "slide"
    },
    "tags": [],
    "user_expressions": []
   },
   "source": [
    "- Feature importance"
   ]
  },
  {
   "cell_type": "markdown",
   "id": "abdfdfc9-3f61-4ff2-a5fb-f9d601dca370",
   "metadata": {
    "slideshow": {
     "slide_type": "slide"
    },
    "tags": [],
    "user_expressions": []
   },
   "source": [
    "- Multiple ways to build and evaluate models found in different packages\n",
    "  - Frequentist: statsmodels\n",
    "  - Bayesian: PyMC\n",
    "  - Machine Learning: scikit-learn, tensorflow, PyTorch"
   ]
  },
  {
   "cell_type": "markdown",
   "id": "c060ad6d-ba51-4794-80ab-e056a85e5dbf",
   "metadata": {
    "slideshow": {
     "slide_type": "slide"
    },
    "tags": [],
    "user_expressions": []
   },
   "source": [
    "### Closing Poll"
   ]
  },
  {
   "cell_type": "markdown",
   "id": "ca6ff7bb-4e66-4acb-98cc-15dd05fc8a20",
   "metadata": {
    "slideshow": {
     "slide_type": "skip"
    },
    "tags": [],
    "user_expressions": []
   },
   "source": [
    "The [closing poll](https://PollEv.com/clickable_images/WHersUlQe5SsG68KOHyfL/respond) which is, as all the others are, anonymous."
   ]
  },
  {
   "cell_type": "markdown",
   "id": "ba2541d7-45c7-48e4-a970-30c95d49792f",
   "metadata": {
    "slideshow": {
     "slide_type": "skip"
    },
    "tags": [],
    "user_expressions": []
   },
   "source": [
    ":::{danger} Shutdown\n",
    "Please shut down your server! (File > Hub Control Panel)\n",
    ":::"
   ]
  }
 ],
 "metadata": {
  "kernelspec": {
   "display_name": "Python 3 (ipykernel)",
   "language": "python",
   "name": "python3"
  },
  "language_info": {
   "codemirror_mode": {
    "name": "ipython",
    "version": 3
   },
   "file_extension": ".py",
   "mimetype": "text/x-python",
   "name": "python",
   "nbconvert_exporter": "python",
   "pygments_lexer": "ipython3",
   "version": "3.10.11"
  }
 },
 "nbformat": 4,
 "nbformat_minor": 5
}
