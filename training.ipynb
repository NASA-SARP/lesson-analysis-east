{
 "cells": [
  {
   "cell_type": "markdown",
   "id": "34f8072d-0493-4d8d-b68a-0887882a045c",
   "metadata": {
    "user_expressions": []
   },
   "source": [
    "---\n",
    "title: Analysis\n",
    "subtitle: The model development process in scikit-Learn\n",
    "authors:\n",
    "  - name: Ian Carroll\n",
    "    affiliations:\n",
    "      - University of Maryland Baltimore County\n",
    "      - NASA Goddard Space Flight Center\n",
    "  - name: Rachel Wegener\n",
    "    affiliations:\n",
    "      - University of Maryland College Park\n",
    "github: nasa-sarp/lesson-analysis-i-east\n",
    "---"
   ]
  },
  {
   "cell_type": "markdown",
   "id": "d1262a51-9e40-43ee-a80a-5369ed62b410",
   "metadata": {
    "user_expressions": []
   },
   "source": [
    "::::{grid}\n",
    "\n",
    ":::{card}\n",
    ":header: Context 🤔\n",
    "You've created or have access to great data! Now what? This lesson starts moving from exploration to analysis.\n",
    ":::\n",
    "\n",
    ":::{card}\n",
    ":header: Outcome 🎓\n",
    "Building a model to make a prediction will become a concrete, well-defined process.\n",
    ":::\n",
    "\n",
    ":::{card}\n",
    ":header: Skills 🤓\n",
    "A new tool for understanding why your code produces an error, the `%debug` command!\n",
    ":::\n",
    "\n",
    "::::"
   ]
  },
  {
   "cell_type": "code",
   "execution_count": null,
   "id": "9251329b-518f-4da2-a211-ead39176670f",
   "metadata": {
    "tags": []
   },
   "outputs": [],
   "source": [
    "import holoviews\n",
    "import hvplot.xarray\n",
    "import numpy\n",
    "import sklearn.datasets\n",
    "import sklearn.linear_model\n",
    "import sklearn.model_selection\n",
    "import xarray\n",
    "\n",
    "options = xarray.set_options(display_style='text')\n",
    "holoviews.opts.defaults(\n",
    "    holoviews.opts.Histogram(active_tools=[], toolbar=None),\n",
    "    holoviews.opts.Scatter(active_tools=[], toolbar=None),\n",
    "    holoviews.opts.Image(active_tools=[]),\n",
    "    holoviews.opts.Points(active_tools=[]),\n",
    "    holoviews.opts.Layout(toolbar=None),\n",
    "    holoviews.opts.ErrorBars(upper_head=None, lower_head=None)\n",
    ")"
   ]
  },
  {
   "cell_type": "code",
   "execution_count": null,
   "id": "925aac40-9ec5-48df-ab09-159fce5732e1",
   "metadata": {
    "tags": []
   },
   "outputs": [],
   "source": [
    "holoviews.extension('bokeh')"
   ]
  },
  {
   "cell_type": "markdown",
   "id": "dc605bd5-f660-46a8-b284-593d1f4d3d50",
   "metadata": {
    "tags": [],
    "user_expressions": []
   },
   "source": [
    "## Models: Conceptual, Mathematical, and Numerical"
   ]
  },
  {
   "cell_type": "markdown",
   "id": "75291bd2-feef-4fe7-99e1-21d0a14f6b30",
   "metadata": {
    "user_expressions": []
   },
   "source": [
    "intro stuff"
   ]
  },
  {
   "cell_type": "markdown",
   "id": "02262944-b6e8-4ac3-b5dd-35e82dcec822",
   "metadata": {
    "tags": [],
    "user_expressions": []
   },
   "source": [
    "## A Dataset for Regression"
   ]
  },
  {
   "cell_type": "markdown",
   "id": "2d85348e-5940-4da3-a4e1-d33b1e436e3d",
   "metadata": {
    "user_expressions": []
   },
   "source": [
    "Toy dataset from scikit-learn concerning diabetes. The \"sample\" dimension of the dataset corresponds to different study participants. The \"feature\" dimension of the dataset correspons to the different variables that may predict disease progression."
   ]
  },
  {
   "cell_type": "code",
   "execution_count": null,
   "id": "4d8aa2c1-aa3f-4c8b-a924-5026dcac1df9",
   "metadata": {
    "tags": []
   },
   "outputs": [],
   "source": [
    "sk_diabetes = sklearn.datasets.load_diabetes()\n",
    "x = xarray.DataArray(\n",
    "    data=sk_diabetes.data,\n",
    "    dims=('sample', 'feature'),\n",
    "    coords={\n",
    "        'feature': sk_diabetes.feature_names,\n",
    "    },\n",
    "    name='x',\n",
    ")\n",
    "x"
   ]
  },
  {
   "cell_type": "code",
   "execution_count": null,
   "id": "927ee90b-b224-4a76-aad2-b9718176d6bc",
   "metadata": {
    "slideshow": {
     "slide_type": "slide"
    },
    "tags": []
   },
   "outputs": [],
   "source": [
    "x.hvplot.hist(groupby=['feature'], widget_location='top')"
   ]
  },
  {
   "cell_type": "markdown",
   "id": "4f8996a5-4d97-46eb-890b-9b12cd1ce75c",
   "metadata": {
    "user_expressions": []
   },
   "source": [
    "The response varialbe, what the features may help predict, is a quanitative measure of progression towards development of diabetes."
   ]
  },
  {
   "cell_type": "code",
   "execution_count": null,
   "id": "687bb7fa-0364-4494-a2f3-ac7a2c8c5f96",
   "metadata": {
    "tags": []
   },
   "outputs": [],
   "source": [
    "y = xarray.DataArray(\n",
    "    data=sk_diabetes.target,\n",
    "    dims='sample',\n",
    "    name='y',\n",
    ")\n",
    "diabetes = xarray.merge((y, x))\n",
    "diabetes"
   ]
  },
  {
   "cell_type": "markdown",
   "id": "09de06c3-52a3-4464-a2f3-8c92cbaf5e15",
   "metadata": {
    "user_expressions": []
   },
   "source": [
    "Visualization allows us to inspect the potential of any one feature to predict the response, but we will need a model to explore using all features at the same time."
   ]
  },
  {
   "cell_type": "code",
   "execution_count": null,
   "id": "970cbf7a-2032-4a0d-8f94-32443c2acb70",
   "metadata": {
    "tags": []
   },
   "outputs": [],
   "source": [
    "diabetes.hvplot.scatter(y='y', x='x', groupby='feature', widget_location='top')"
   ]
  },
  {
   "cell_type": "markdown",
   "id": "a4ae7885-da43-4029-932e-c471e92fd7db",
   "metadata": {
    "user_expressions": []
   },
   "source": [
    "The train test split as a route towards model evaluation."
   ]
  },
  {
   "cell_type": "code",
   "execution_count": null,
   "id": "5615fca0-e52f-4b19-bcc0-3ba55a85d679",
   "metadata": {
    "scrolled": true,
    "tags": []
   },
   "outputs": [],
   "source": [
    "train_or_test = numpy.random.choice(\n",
    "    a=('train', 'test'),\n",
    "    size=diabetes.sizes['sample'],\n",
    "    p=(0.8, 0.2),\n",
    ")\n",
    "train_or_test"
   ]
  },
  {
   "cell_type": "code",
   "execution_count": null,
   "id": "34566d49-e5ed-4494-8366-3f93e7ac271f",
   "metadata": {
    "tags": []
   },
   "outputs": [],
   "source": [
    "diabetes['split'] = ('sample', train_or_test)\n",
    "diabetes"
   ]
  },
  {
   "cell_type": "code",
   "execution_count": null,
   "id": "9c5c24f9-1bfe-4bad-bd14-e2c0c250b99c",
   "metadata": {
    "tags": []
   },
   "outputs": [],
   "source": [
    "gb = diabetes.groupby('split')\n",
    "gb"
   ]
  },
  {
   "cell_type": "code",
   "execution_count": null,
   "id": "d309b960-a44e-48ba-bc16-cb8c7f8d5e7c",
   "metadata": {
    "tags": [
     "raises-exception"
    ]
   },
   "outputs": [],
   "source": [
    "test, train = gb\n",
    "test['x']"
   ]
  },
  {
   "cell_type": "raw",
   "id": "d5e279af-5472-4500-8091-c3322b05e2a5",
   "metadata": {
    "tags": [],
    "user_expressions": []
   },
   "source": [
    "%debug"
   ]
  },
  {
   "cell_type": "markdown",
   "id": "f65d199e-7eaa-42a3-b5b2-5a37bbb1758e",
   "metadata": {
    "user_expressions": []
   },
   "source": [
    "Drop the groupby label and keep just the datasets from each group."
   ]
  },
  {
   "cell_type": "code",
   "execution_count": null,
   "id": "edb8e1a1-e4b4-411a-a08c-c82f13067c58",
   "metadata": {},
   "outputs": [],
   "source": [
    "test = test[1]\n",
    "train = train[1]"
   ]
  },
  {
   "cell_type": "markdown",
   "id": "b6922f8a-a0fd-4352-8cec-77e5503ab836",
   "metadata": {
    "user_expressions": []
   },
   "source": [
    "## Training"
   ]
  },
  {
   "cell_type": "markdown",
   "id": "075a523e-b4e9-4e90-b5a7-3c7a626b01ca",
   "metadata": {
    "user_expressions": []
   },
   "source": [
    "The scikit-learn package includes many kinds of models, and does a good job at making the interface to using them all pretty similar."
   ]
  },
  {
   "cell_type": "code",
   "execution_count": null,
   "id": "c64d51f2-0136-43cf-921f-4477b3c1cbbb",
   "metadata": {
    "tags": []
   },
   "outputs": [],
   "source": [
    "model = sklearn.linear_model.LinearRegression()\n",
    "model"
   ]
  },
  {
   "cell_type": "markdown",
   "id": "c305954e-45cd-46e4-93f8-6c7575a8fde9",
   "metadata": {
    "user_expressions": []
   },
   "source": [
    ":::{seealso} Supervised Learning\n",
    "Supervised learning is the subset of statistical models that rely on having both inputs and outputs on hand to train. The alternative, \"un-supervised\" learning involves training models just on inputs; for example, clustering high-dimensional inputs into unkown but similar categories, or change-point detection in a time series.\n",
    ":::"
   ]
  },
  {
   "cell_type": "code",
   "execution_count": null,
   "id": "a68a27e4-d66e-4697-834d-076dc6db101a",
   "metadata": {
    "tags": []
   },
   "outputs": [],
   "source": [
    "x = train['x']\n",
    "y = train['y']"
   ]
  },
  {
   "cell_type": "markdown",
   "id": "f18ccaaf-798a-47c5-8e6d-c52fbe61fb75",
   "metadata": {
    "user_expressions": []
   },
   "source": [
    "Every scikit-learn model for supervised learning has a fit method that takes the inputs (a.k.a. features or predictors) as the first argument and the outputs (a.k.a. targets, labels, or responses) as the second argument."
   ]
  },
  {
   "cell_type": "code",
   "execution_count": null,
   "id": "ecac3000-24e5-47da-9b05-0230b4814b47",
   "metadata": {
    "tags": []
   },
   "outputs": [],
   "source": [
    "model.fit(x, y)"
   ]
  },
  {
   "cell_type": "markdown",
   "id": "bde3e34e-1963-4da5-aa13-dfe8a7334540",
   "metadata": {
    "user_expressions": []
   },
   "source": [
    "A trained model can now be used to make predictions based on the inputs alone. Note that \"prediction\" is not used in modeling to mean predicting into the future (which is \"forecasting\"). The name \"estimate\" might be more logical."
   ]
  },
  {
   "cell_type": "code",
   "execution_count": null,
   "id": "4ccc58f7-babb-4ddb-832b-f1dddc43a06f",
   "metadata": {
    "tags": []
   },
   "outputs": [],
   "source": [
    "train['estimate'] = ('sample', model.predict(x))\n",
    "train"
   ]
  },
  {
   "cell_type": "markdown",
   "id": "c1be0c34-9330-4f6a-aa41-65ca66c2e2c7",
   "metadata": {
    "user_expressions": []
   },
   "source": [
    "If the fitting procedure has worked, then the estimate should track the outputs \"y\". For the case of univariate outputs, a 1:1 plot is a good visual check."
   ]
  },
  {
   "cell_type": "code",
   "execution_count": null,
   "id": "94784445-e0df-4d55-a826-8525b43b49ab",
   "metadata": {
    "tags": []
   },
   "outputs": [],
   "source": [
    "(\n",
    "    train.hvplot.scatter(x='y', y='estimate', groupby=[])\n",
    "    * holoviews.Slope(1, 0).opts(color='orange')\n",
    ")"
   ]
  },
  {
   "cell_type": "markdown",
   "id": "271eb230-18a4-4f44-8657-9a9bb2ee8ca6",
   "metadata": {
    "user_expressions": []
   },
   "source": [
    "## Evaluation"
   ]
  },
  {
   "cell_type": "markdown",
   "id": "44b77e87-7888-4e57-bfec-679dd91258dc",
   "metadata": {
    "user_expressions": []
   },
   "source": [
    "Quantitative evaluation, in the machine learning framework, should be performed on data that was not used during the fitting process."
   ]
  },
  {
   "cell_type": "code",
   "execution_count": null,
   "id": "9e9eb326-c4af-4e8f-82ed-4df8414293e8",
   "metadata": {
    "tags": []
   },
   "outputs": [],
   "source": [
    "x = test['x']\n",
    "y = test['y']"
   ]
  },
  {
   "cell_type": "code",
   "execution_count": null,
   "id": "195d7b7f-fc00-4c4a-80e7-2760f8ff80fb",
   "metadata": {
    "tags": []
   },
   "outputs": [],
   "source": [
    "test['estimate'] = ('sample', model.predict(x))"
   ]
  },
  {
   "cell_type": "code",
   "execution_count": null,
   "id": "11fc33ca-dad4-42fe-8cdf-cddcca1c9755",
   "metadata": {
    "tags": []
   },
   "outputs": [],
   "source": [
    "test_plt = test.drop_dims('feature')\n",
    "(\n",
    "    test_plt.hvplot.scatter(x='y', y='estimate')\n",
    "    * holoviews.Slope(1, 0).opts(color='orange')\n",
    ")"
   ]
  },
  {
   "cell_type": "markdown",
   "id": "b31bc8fe-77cb-4485-b9ed-f05e33cb6f14",
   "metadata": {
    "user_expressions": []
   },
   "source": [
    "Quantitative measures of the quality of the estimates begins with examining the residuals, of the difference between the observations and the estimates."
   ]
  },
  {
   "cell_type": "code",
   "execution_count": null,
   "id": "46f2d604-2a05-4197-8f60-fc477dcf502f",
   "metadata": {
    "tags": []
   },
   "outputs": [],
   "source": [
    "test['residual'] = test['y'] - test['estimate']\n",
    "test['cludge'] = test['residual'] * 0 # sorry about this, makes errorbars work"
   ]
  },
  {
   "cell_type": "code",
   "execution_count": null,
   "id": "8259ba99-c9dc-44af-b09a-214e3560f025",
   "metadata": {
    "tags": []
   },
   "outputs": [],
   "source": [
    "test_plt = test.drop_dims('feature')\n",
    "(\n",
    "    test_plt.hvplot.scatter(x='y', y='estimate')\n",
    "    * test_plt.hvplot.errorbars(x='y', y='estimate', yerr1='cludge', yerr2='residual', hover=[])\n",
    "    * holoviews.Slope(1, 0).opts(color='orange')\n",
    ")"
   ]
  },
  {
   "cell_type": "markdown",
   "id": "cb953ecb-0a4d-4faf-aa9b-0bbe3db3efe6",
   "metadata": {
    "user_expressions": []
   },
   "source": [
    "Multiple ways to understand the residual. We can develop a scalar score called the coefficient of determination, or $R^2$."
   ]
  },
  {
   "cell_type": "code",
   "execution_count": null,
   "id": "5d4573b6-cfe9-427f-877d-fad9ecfd45e0",
   "metadata": {
    "tags": []
   },
   "outputs": [],
   "source": [
    "RSS = (test['residual'] ** 2).sum()\n",
    "TSS = test['y'].var() * test.sizes['sample']"
   ]
  },
  {
   "cell_type": "code",
   "execution_count": null,
   "id": "65bdf998-1fe7-492d-bdeb-dc8adf8c361f",
   "metadata": {
    "tags": []
   },
   "outputs": [],
   "source": [
    "1 - RSS / TSS "
   ]
  },
  {
   "cell_type": "markdown",
   "id": "02089c04-36f9-4e4e-9e23-824f29db34e6",
   "metadata": {
    "user_expressions": []
   },
   "source": [
    ":::{seealso} Overfitting\n",
    "The model does not generalize beyond the data used for training.\n",
    ":::"
   ]
  },
  {
   "cell_type": "markdown",
   "id": "75de1b59-4cfd-459e-959b-6036840ac4bc",
   "metadata": {
    "user_expressions": []
   },
   "source": [
    "This or some other scalar metric is so useful, especially for checking for overfitting, that most scikit-learn models have a built in method for returning this model \"score\".\n",
    "\n",
    "When the score on the test set is worse than the score on the training set, that means the model does not generalize. Unfortunately, there is not widely recognized difference between the train and test score that is recognized as too much. There is always noise, and this one looks okay!"
   ]
  },
  {
   "cell_type": "code",
   "execution_count": null,
   "id": "d251a6a0-f90e-46bf-8e9a-985fabeb03a0",
   "metadata": {
    "tags": []
   },
   "outputs": [],
   "source": [
    "model.score(test['x'], test['y'])"
   ]
  },
  {
   "cell_type": "code",
   "execution_count": null,
   "id": "ca3b2976-4e00-4299-9125-2c148109b81d",
   "metadata": {
    "tags": []
   },
   "outputs": [],
   "source": [
    "model.score(train['x'], train['y'])"
   ]
  },
  {
   "cell_type": "markdown",
   "id": "f17df6ad-4a70-477d-b124-d4b4160797b9",
   "metadata": {
    "user_expressions": []
   },
   "source": [
    "Beyond the scalar values, and once overfitting has been ruled out, the next step in evaluating the model is to examine the residuals."
   ]
  },
  {
   "cell_type": "markdown",
   "id": "91a0ca8c-df7b-4077-b14f-90995640528c",
   "metadata": {
    "user_expressions": []
   },
   "source": [
    "Checking a residual histogram provides a bulk overview. The residuals should be just noise, meaning they should look random. Different assumptions are possible, but at least the residuals should not be biased. Again, this looks okay."
   ]
  },
  {
   "cell_type": "code",
   "execution_count": null,
   "id": "1d3fbe39-fce5-4c1d-8058-c247eb2c61df",
   "metadata": {
    "tags": []
   },
   "outputs": [],
   "source": [
    "(\n",
    "    test['residual'].hvplot.hist()\n",
    "    * holoviews.VLine(test['residual'].mean().item()).opts(color='red', line_dash='dotted')\n",
    "    * holoviews.VLine(test['residual'].median().item())\n",
    ")"
   ]
  },
  {
   "cell_type": "markdown",
   "id": "01c396b6-6964-4ddf-83b3-61760a10801f",
   "metadata": {
    "user_expressions": []
   },
   "source": [
    "Even if the distribution looks random, closer examination could reveal patterns in the residuals. For this model, the residuals appear to correlate with the response. That means their is some bias in our estimate, and we want to start considering a more flexible model. With great flexibility, comes great potential for overfitting."
   ]
  },
  {
   "cell_type": "code",
   "execution_count": null,
   "id": "c460ea4d-fc8f-421c-825e-ef6257568ab9",
   "metadata": {
    "tags": []
   },
   "outputs": [],
   "source": [
    "test.hvplot.scatter(x='y', y='residual', groupby=[])"
   ]
  },
  {
   "cell_type": "markdown",
   "id": "58ddf2c9-f67c-46a3-a3e2-7a8be21dfbb1",
   "metadata": {
    "user_expressions": []
   },
   "source": [
    "## Next Steps"
   ]
  },
  {
   "cell_type": "markdown",
   "id": "52862c1b-f290-4106-897f-f3d08fe9956c",
   "metadata": {
    "user_expressions": []
   },
   "source": [
    "- classification versus regression\n",
    "- feature importance\n",
    "- so many ways to model"
   ]
  },
  {
   "cell_type": "markdown",
   "id": "c060ad6d-ba51-4794-80ab-e056a85e5dbf",
   "metadata": {
    "tags": [],
    "user_expressions": []
   },
   "source": [
    "### Closing Poll"
   ]
  },
  {
   "cell_type": "markdown",
   "id": "ca6ff7bb-4e66-4acb-98cc-15dd05fc8a20",
   "metadata": {
    "user_expressions": []
   },
   "source": [
    "The [closing poll](https://PollEv.com/clickable_images/WHersUlQe5SsG68KOHyfL/respond) which is, as all the others are, anonymous."
   ]
  },
  {
   "cell_type": "markdown",
   "id": "ba2541d7-45c7-48e4-a970-30c95d49792f",
   "metadata": {
    "tags": [],
    "user_expressions": []
   },
   "source": [
    ":::{danger} Shutdown\n",
    "Please shut down your server! (File > Hub Control Panel)\n",
    ":::"
   ]
  }
 ],
 "metadata": {
  "kernelspec": {
   "display_name": "Python 3 (ipykernel)",
   "language": "python",
   "name": "python3"
  },
  "language_info": {
   "codemirror_mode": {
    "name": "ipython",
    "version": 3
   },
   "file_extension": ".py",
   "mimetype": "text/x-python",
   "name": "python",
   "nbconvert_exporter": "python",
   "pygments_lexer": "ipython3",
   "version": "3.10.11"
  }
 },
 "nbformat": 4,
 "nbformat_minor": 5
}
