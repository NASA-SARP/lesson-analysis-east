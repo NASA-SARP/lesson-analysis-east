{
 "cells": [
  {
   "cell_type": "markdown",
   "id": "673b7518-1072-4208-9eb7-4c0b1770d24d",
   "metadata": {
    "tags": [],
    "user_expressions": []
   },
   "source": [
    "---\n",
    "title: Analysis - Practice\n",
    "subtitle: The Model Development Process in scikit-Learn\n",
    "authors:\n",
    "  - name: Ian Carroll\n",
    "    affiliations:\n",
    "      - University of Maryland Baltimore County\n",
    "      - NASA Goddard Space Flight Center\n",
    "  - name: Rachel Wegener\n",
    "    affiliations:\n",
    "      - University of Maryland College Park\n",
    "github: nasa-sarp/lesson-analysis-i-east\n",
    "---"
   ]
  },
  {
   "cell_type": "markdown",
   "id": "c2f0bd0a-305b-4408-baed-ca489a56f082",
   "metadata": {
    "user_expressions": []
   },
   "source": [
    "## Exercise 1"
   ]
  },
  {
   "cell_type": "markdown",
   "id": "72ffc99e-5736-4929-abe7-d5aeaeb0d8bc",
   "metadata": {
    "user_expressions": []
   },
   "source": [
    ":::{dropdown} Problem\n",
    ":open:\n",
    "\n",
    "Download another example dataset with scikit-learn.datasets.load_iris() and start to prepare it for training.\n",
    "\n",
    "Level: I\n",
    "\n",
    ": Create an xarray.Dataset with the predictor `x` and response `y` data arrays. What type of variable is the response, and does that make this dataset approachable with classification or regression?\n",
    "\n",
    "Level: II\n",
    "\n",
    ": Create a `train_or_test` boolean array and split the dataset into `train` and `test` objects.\n",
    "\n",
    "Level: AI\n",
    "\n",
    ": Ask chatGPT to write code for the previous levels and check its work.\n",
    "\n",
    ":::"
   ]
  },
  {
   "cell_type": "code",
   "execution_count": null,
   "id": "cf70b4a4-3066-45b4-babb-34ed319b5872",
   "metadata": {},
   "outputs": [],
   "source": [
    "# your work here!"
   ]
  },
  {
   "cell_type": "markdown",
   "id": "3218c823-67cb-4ed0-b6fc-ba6fb79c8c89",
   "metadata": {
    "user_expressions": []
   },
   "source": [
    ":::{dropdown} Solution\n",
    "```\n",
    "import xarray\n",
    "import numpy\n",
    "import sklearn.datasets\n",
    "\n",
    "# Level I\n",
    "sk_iris = sklearn.datasets.load_iris()\n",
    "x = xarray.DataArray(\n",
    "    data=sk_iris.data,\n",
    "    dims=('sample', 'feature'),\n",
    "    coords={'feature': sk_iris.feature_names},\n",
    "    name='x',\n",
    ")\n",
    "y = xarray.DataArray(\n",
    "    data=sk_iris.target,\n",
    "    dims='sample',\n",
    "    name='y',\n",
    ")\n",
    "iris = xarray.merge((y, x))\n",
    "\n",
    "# Level II\n",
    "train_or_test = numpy.random.choice(\n",
    "    a=('train', 'test'),\n",
    "    size=iris.sizes['sample'],\n",
    "    p=(0.8, 0.2),\n",
    ")\n",
    "train_or_test = xarray.DataArray(train_or_test, dims='sample')\n",
    "train = iris.where(train_or_test=='train', drop=True)\n",
    "test = iris.where(train_or_test=='test', drop=True)\n",
    "```\n",
    ":::"
   ]
  },
  {
   "cell_type": "markdown",
   "id": "797b14e7-d3db-4928-84c6-7cd1f3e74e3b",
   "metadata": {
    "user_expressions": []
   },
   "source": [
    "## Exercise 2"
   ]
  },
  {
   "cell_type": "markdown",
   "id": "b363c2f2-40ec-4324-af4d-3db92734cc26",
   "metadata": {
    "user_expressions": []
   },
   "source": [
    ":::{dropdown} Problem\n",
    ":open:\n",
    "\n",
    "A linear model analagous to the one we used for regression on the diabetes dataset is `sklearn.linear_model.LogisticRegression`. Train a logistic regression model and do an initial check for overfitting based on the score difference between train and test splits.\n",
    "\n",
    ":::"
   ]
  },
  {
   "cell_type": "code",
   "execution_count": null,
   "id": "839cc14e-8dc5-4ff9-b447-340348561b1d",
   "metadata": {
    "tags": []
   },
   "outputs": [],
   "source": [
    "# your work here!"
   ]
  },
  {
   "cell_type": "markdown",
   "id": "2cdc9603-bc25-4afd-b48a-63330a93b748",
   "metadata": {
    "user_expressions": []
   },
   "source": [
    ":::{dropdown} Solution\n",
    "```\n",
    "```\n",
    ":::"
   ]
  }
 ],
 "metadata": {
  "kernelspec": {
   "display_name": "Python 3 (ipykernel)",
   "language": "python",
   "name": "python3"
  },
  "language_info": {
   "codemirror_mode": {
    "name": "ipython",
    "version": 3
   },
   "file_extension": ".py",
   "mimetype": "text/x-python",
   "name": "python",
   "nbconvert_exporter": "python",
   "pygments_lexer": "ipython3",
   "version": "3.10.11"
  }
 },
 "nbformat": 4,
 "nbformat_minor": 5
}
